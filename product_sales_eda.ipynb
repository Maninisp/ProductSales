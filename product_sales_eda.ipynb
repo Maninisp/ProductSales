{
 "cells": [
  {
   "cell_type": "markdown",
   "metadata": {
    "notebookRunGroups": {
     "groupValue": ""
    }
   },
   "source": [
    "Trend in the sales of all four products during certain months"
   ]
  },
  {
   "cell_type": "code",
   "execution_count": 1,
   "metadata": {
    "notebookRunGroups": {
     "groupValue": ""
    }
   },
   "outputs": [],
   "source": [
    "import pandas as pd \n",
    "import seaborn as sns\n",
    "import matplotlib.pyplot as plt\n",
    "import datetime as dt"
   ]
  },
  {
   "cell_type": "code",
   "execution_count": 2,
   "metadata": {},
   "outputs": [
    {
     "name": "stdout",
     "output_type": "stream",
     "text": [
      "   Unnamed: 0        Date  Q-P1  Q-P2  Q-P3  Q-P4      S-P1      S-P2  \\\n",
      "0           0  13-06-2010  5422  3725   576   907  17187.74  23616.50   \n",
      "1           1  14-06-2010  7047   779  3578  1574  22338.99   4938.86   \n",
      "2           2  15-06-2010  1572  2082   595  1145   4983.24  13199.88   \n",
      "3           3  16-06-2010  5657  2399  3140  1672  17932.69  15209.66   \n",
      "4           4  17-06-2010  3668  3207  2184   708  11627.56  20332.38   \n",
      "\n",
      "       S-P3      S-P4  \n",
      "0   3121.92   6466.91  \n",
      "1  19392.76  11222.62  \n",
      "2   3224.90   8163.85  \n",
      "3  17018.80  11921.36  \n",
      "4  11837.28   5048.04  \n"
     ]
    }
   ],
   "source": [
    "df  = pd.read_csv('statsfinal.csv')\n",
    "print(df.head())"
   ]
  },
  {
   "cell_type": "code",
   "execution_count": 3,
   "metadata": {},
   "outputs": [
    {
     "name": "stdout",
     "output_type": "stream",
     "text": [
      "<class 'pandas.core.frame.DataFrame'>\n",
      "RangeIndex: 4600 entries, 0 to 4599\n",
      "Data columns (total 10 columns):\n",
      " #   Column      Non-Null Count  Dtype  \n",
      "---  ------      --------------  -----  \n",
      " 0   Unnamed: 0  4600 non-null   int64  \n",
      " 1   Date        4600 non-null   object \n",
      " 2   Q-P1        4600 non-null   int64  \n",
      " 3   Q-P2        4600 non-null   int64  \n",
      " 4   Q-P3        4600 non-null   int64  \n",
      " 5   Q-P4        4600 non-null   int64  \n",
      " 6   S-P1        4600 non-null   float64\n",
      " 7   S-P2        4600 non-null   float64\n",
      " 8   S-P3        4600 non-null   float64\n",
      " 9   S-P4        4600 non-null   float64\n",
      "dtypes: float64(4), int64(5), object(1)\n",
      "memory usage: 359.5+ KB\n",
      "None\n",
      "=======================\n",
      "        Unnamed: 0         Q-P1         Q-P2         Q-P3         Q-P4  \\\n",
      "count  4600.000000  4600.000000  4600.000000  4600.000000  4600.000000   \n",
      "mean   2299.500000  4121.849130  2130.281522  3145.740000  1123.500000   \n",
      "std    1328.049949  2244.271323  1089.783705  1671.832231   497.385676   \n",
      "min       0.000000   254.000000   251.000000   250.000000   250.000000   \n",
      "25%    1149.750000  2150.500000  1167.750000  1695.750000   696.000000   \n",
      "50%    2299.500000  4137.000000  2134.000000  3202.500000  1136.500000   \n",
      "75%    3449.250000  6072.000000  3070.250000  4569.000000  1544.000000   \n",
      "max    4599.000000  7998.000000  3998.000000  6000.000000  2000.000000   \n",
      "\n",
      "               S-P1          S-P2          S-P3          S-P4  \n",
      "count   4600.000000   4600.000000   4600.000000   4600.000000  \n",
      "mean   13066.261743  13505.984848  17049.910800   8010.555000  \n",
      "std     7114.340094   6909.228687   9061.330694   3546.359869  \n",
      "min      805.180000   1591.340000   1355.000000   1782.500000  \n",
      "25%     6817.085000   7403.535000   9190.965000   4962.480000  \n",
      "50%    13114.290000  13529.560000  17357.550000   8103.245000  \n",
      "75%    19248.240000  19465.385000  24763.980000  11008.720000  \n",
      "max    25353.660000  25347.320000  32520.000000  14260.000000  \n",
      "=======================\n",
      "0\n"
     ]
    }
   ],
   "source": [
    "print(df.info())     #to know data types of columns/\n",
    "print('=======================')\n",
    "print(df.describe()) #gives description of dataframe\n",
    "\n",
    "print('=======================')\n",
    "print(df.isnull().any().sum())  #to know if any nan is present"
   ]
  },
  {
   "cell_type": "code",
   "execution_count": 4,
   "metadata": {},
   "outputs": [],
   "source": [
    "# To find maximum and minimum sold units\n",
    "min_P1 = df['Q-P1'].min()\n",
    "mean_P1 = df['Q-P1'].mean()\n",
    "max_P1 = df['Q-P1'].max() \n",
    "\n",
    "min_P2 = df['Q-P2'].min()\n",
    "mean_P2 = df['Q-P2'].mean()\n",
    "max_P2 = df['Q-P2'].max() \n",
    "\n",
    "min_P3 = df['Q-P3'].min()\n",
    "mean_P3 = df['Q-P3'].mean()\n",
    "max_P3 = df['Q-P3'].max() \n",
    "\n",
    "min_P4 = df['Q-P4'].min()\n",
    "mean_P4 = df['Q-P4'].mean()\n",
    "max_P4 = df['Q-P4'].max() \n"
   ]
  },
  {
   "cell_type": "code",
   "execution_count": 5,
   "metadata": {},
   "outputs": [],
   "source": [
    "# product whose selling is more than mean in true or false\n",
    "df['Q-P1'] > mean_P1\n",
    "# Get Products list sold more than mean value\n",
    "most_sold = df[df['Q-P1'] > mean_P1]\n",
    "most_sold_high = df[df['Q-P1'] > (max_P1-1000)]\n"
   ]
  },
  {
   "cell_type": "code",
   "execution_count": 6,
   "metadata": {},
   "outputs": [
    {
     "name": "stdout",
     "output_type": "stream",
     "text": [
      "<class 'pandas.core.frame.DataFrame'>\n",
      "RangeIndex: 4600 entries, 0 to 4599\n",
      "Data columns (total 10 columns):\n",
      " #   Column      Non-Null Count  Dtype         \n",
      "---  ------      --------------  -----         \n",
      " 0   Unnamed: 0  4600 non-null   int64         \n",
      " 1   Date        4574 non-null   datetime64[ns]\n",
      " 2   Q-P1        4600 non-null   int64         \n",
      " 3   Q-P2        4600 non-null   int64         \n",
      " 4   Q-P3        4600 non-null   int64         \n",
      " 5   Q-P4        4600 non-null   int64         \n",
      " 6   S-P1        4600 non-null   float64       \n",
      " 7   S-P2        4600 non-null   float64       \n",
      " 8   S-P3        4600 non-null   float64       \n",
      " 9   S-P4        4600 non-null   float64       \n",
      "dtypes: datetime64[ns](1), float64(4), int64(5)\n",
      "memory usage: 359.5 KB\n"
     ]
    }
   ],
   "source": [
    "# as Date is in object dtype we need to convert it in datetime\n",
    "df['Date'] = pd.to_datetime(df['Date'], format='%d-%m-%Y', errors='coerce')\n",
    "df.info()"
   ]
  },
  {
   "cell_type": "code",
   "execution_count": 7,
   "metadata": {},
   "outputs": [
    {
     "data": {
      "text/plain": [
       "Index([], dtype='int64')"
      ]
     },
     "execution_count": 7,
     "metadata": {},
     "output_type": "execute_result"
    }
   ],
   "source": [
    "single_digit_month_rows = df[df['Date'].apply(lambda x: isinstance(x, str) and re.match(r'\\d{2}-\\d-\\d{4}', x) is not None)].index\n",
    "\n",
    "single_digit_month_rows"
   ]
  },
  {
   "cell_type": "code",
   "execution_count": 8,
   "metadata": {},
   "outputs": [
    {
     "data": {
      "text/plain": [
       "Unnamed: 0    26\n",
       "Date           0\n",
       "Q-P1          26\n",
       "Q-P2          26\n",
       "Q-P3          26\n",
       "Q-P4          26\n",
       "S-P1          26\n",
       "S-P2          26\n",
       "S-P3          26\n",
       "S-P4          26\n",
       "dtype: int64"
      ]
     },
     "execution_count": 8,
     "metadata": {},
     "output_type": "execute_result"
    }
   ],
   "source": [
    "df[df.Date.isnull()].count() #count of improper date"
   ]
  },
  {
   "cell_type": "code",
   "execution_count": 9,
   "metadata": {},
   "outputs": [],
   "source": [
    "df = df.dropna(axis=0)   #droppping nan values"
   ]
  },
  {
   "cell_type": "code",
   "execution_count": 10,
   "metadata": {},
   "outputs": [
    {
     "data": {
      "text/plain": [
       "0       6\n",
       "1       6\n",
       "2       6\n",
       "3       6\n",
       "4       6\n",
       "       ..\n",
       "4595    1\n",
       "4596    1\n",
       "4597    2\n",
       "4598    2\n",
       "4599    2\n",
       "Name: Date, Length: 4574, dtype: int32"
      ]
     },
     "execution_count": 10,
     "metadata": {},
     "output_type": "execute_result"
    }
   ],
   "source": [
    "months = df['Date'].dt.month #get months for sorting\n",
    "months"
   ]
  },
  {
   "cell_type": "code",
   "execution_count": 11,
   "metadata": {},
   "outputs": [
    {
     "data": {
      "text/html": [
       "<div>\n",
       "<style scoped>\n",
       "    .dataframe tbody tr th:only-of-type {\n",
       "        vertical-align: middle;\n",
       "    }\n",
       "\n",
       "    .dataframe tbody tr th {\n",
       "        vertical-align: top;\n",
       "    }\n",
       "\n",
       "    .dataframe thead th {\n",
       "        text-align: right;\n",
       "    }\n",
       "</style>\n",
       "<table border=\"1\" class=\"dataframe\">\n",
       "  <thead>\n",
       "    <tr style=\"text-align: right;\">\n",
       "      <th></th>\n",
       "      <th>Unnamed: 0</th>\n",
       "      <th>Date</th>\n",
       "      <th>Q-P1</th>\n",
       "      <th>Q-P2</th>\n",
       "      <th>Q-P3</th>\n",
       "      <th>Q-P4</th>\n",
       "      <th>S-P1</th>\n",
       "      <th>S-P2</th>\n",
       "      <th>S-P3</th>\n",
       "      <th>S-P4</th>\n",
       "      <th>month</th>\n",
       "    </tr>\n",
       "  </thead>\n",
       "  <tbody>\n",
       "    <tr>\n",
       "      <th>0</th>\n",
       "      <td>0</td>\n",
       "      <td>2010-06-13</td>\n",
       "      <td>5422</td>\n",
       "      <td>3725</td>\n",
       "      <td>576</td>\n",
       "      <td>907</td>\n",
       "      <td>17187.74</td>\n",
       "      <td>23616.50</td>\n",
       "      <td>3121.92</td>\n",
       "      <td>6466.91</td>\n",
       "      <td>6</td>\n",
       "    </tr>\n",
       "    <tr>\n",
       "      <th>1</th>\n",
       "      <td>1</td>\n",
       "      <td>2010-06-14</td>\n",
       "      <td>7047</td>\n",
       "      <td>779</td>\n",
       "      <td>3578</td>\n",
       "      <td>1574</td>\n",
       "      <td>22338.99</td>\n",
       "      <td>4938.86</td>\n",
       "      <td>19392.76</td>\n",
       "      <td>11222.62</td>\n",
       "      <td>6</td>\n",
       "    </tr>\n",
       "    <tr>\n",
       "      <th>2</th>\n",
       "      <td>2</td>\n",
       "      <td>2010-06-15</td>\n",
       "      <td>1572</td>\n",
       "      <td>2082</td>\n",
       "      <td>595</td>\n",
       "      <td>1145</td>\n",
       "      <td>4983.24</td>\n",
       "      <td>13199.88</td>\n",
       "      <td>3224.90</td>\n",
       "      <td>8163.85</td>\n",
       "      <td>6</td>\n",
       "    </tr>\n",
       "    <tr>\n",
       "      <th>3</th>\n",
       "      <td>3</td>\n",
       "      <td>2010-06-16</td>\n",
       "      <td>5657</td>\n",
       "      <td>2399</td>\n",
       "      <td>3140</td>\n",
       "      <td>1672</td>\n",
       "      <td>17932.69</td>\n",
       "      <td>15209.66</td>\n",
       "      <td>17018.80</td>\n",
       "      <td>11921.36</td>\n",
       "      <td>6</td>\n",
       "    </tr>\n",
       "    <tr>\n",
       "      <th>4</th>\n",
       "      <td>4</td>\n",
       "      <td>2010-06-17</td>\n",
       "      <td>3668</td>\n",
       "      <td>3207</td>\n",
       "      <td>2184</td>\n",
       "      <td>708</td>\n",
       "      <td>11627.56</td>\n",
       "      <td>20332.38</td>\n",
       "      <td>11837.28</td>\n",
       "      <td>5048.04</td>\n",
       "      <td>6</td>\n",
       "    </tr>\n",
       "  </tbody>\n",
       "</table>\n",
       "</div>"
      ],
      "text/plain": [
       "   Unnamed: 0       Date  Q-P1  Q-P2  Q-P3  Q-P4      S-P1      S-P2  \\\n",
       "0           0 2010-06-13  5422  3725   576   907  17187.74  23616.50   \n",
       "1           1 2010-06-14  7047   779  3578  1574  22338.99   4938.86   \n",
       "2           2 2010-06-15  1572  2082   595  1145   4983.24  13199.88   \n",
       "3           3 2010-06-16  5657  2399  3140  1672  17932.69  15209.66   \n",
       "4           4 2010-06-17  3668  3207  2184   708  11627.56  20332.38   \n",
       "\n",
       "       S-P3      S-P4  month  \n",
       "0   3121.92   6466.91      6  \n",
       "1  19392.76  11222.62      6  \n",
       "2   3224.90   8163.85      6  \n",
       "3  17018.80  11921.36      6  \n",
       "4  11837.28   5048.04      6  "
      ]
     },
     "execution_count": 11,
     "metadata": {},
     "output_type": "execute_result"
    }
   ],
   "source": [
    "df['month'] = months\n",
    "df.head()\n"
   ]
  },
  {
   "cell_type": "code",
   "execution_count": 12,
   "metadata": {},
   "outputs": [
    {
     "data": {
      "text/html": [
       "<div>\n",
       "<style scoped>\n",
       "    .dataframe tbody tr th:only-of-type {\n",
       "        vertical-align: middle;\n",
       "    }\n",
       "\n",
       "    .dataframe tbody tr th {\n",
       "        vertical-align: top;\n",
       "    }\n",
       "\n",
       "    .dataframe thead th {\n",
       "        text-align: right;\n",
       "    }\n",
       "</style>\n",
       "<table border=\"1\" class=\"dataframe\">\n",
       "  <thead>\n",
       "    <tr style=\"text-align: right;\">\n",
       "      <th></th>\n",
       "      <th>Unnamed: 0</th>\n",
       "      <th>Date</th>\n",
       "      <th>Q-P1</th>\n",
       "      <th>Q-P2</th>\n",
       "      <th>Q-P3</th>\n",
       "      <th>Q-P4</th>\n",
       "      <th>S-P1</th>\n",
       "      <th>S-P2</th>\n",
       "      <th>S-P3</th>\n",
       "      <th>S-P4</th>\n",
       "    </tr>\n",
       "    <tr>\n",
       "      <th>month</th>\n",
       "      <th></th>\n",
       "      <th></th>\n",
       "      <th></th>\n",
       "      <th></th>\n",
       "      <th></th>\n",
       "      <th></th>\n",
       "      <th></th>\n",
       "      <th></th>\n",
       "      <th></th>\n",
       "      <th></th>\n",
       "    </tr>\n",
       "  </thead>\n",
       "  <tbody>\n",
       "    <tr>\n",
       "      <th>1</th>\n",
       "      <td>4596</td>\n",
       "      <td>2023-01-31</td>\n",
       "      <td>7990</td>\n",
       "      <td>3995</td>\n",
       "      <td>5992</td>\n",
       "      <td>1987</td>\n",
       "      <td>25328.30</td>\n",
       "      <td>25328.30</td>\n",
       "      <td>32476.64</td>\n",
       "      <td>14167.31</td>\n",
       "    </tr>\n",
       "    <tr>\n",
       "      <th>2</th>\n",
       "      <td>4599</td>\n",
       "      <td>2023-02-03</td>\n",
       "      <td>7965</td>\n",
       "      <td>3997</td>\n",
       "      <td>5993</td>\n",
       "      <td>1996</td>\n",
       "      <td>25249.05</td>\n",
       "      <td>25340.98</td>\n",
       "      <td>32482.06</td>\n",
       "      <td>14231.48</td>\n",
       "    </tr>\n",
       "    <tr>\n",
       "      <th>3</th>\n",
       "      <td>4291</td>\n",
       "      <td>2022-03-31</td>\n",
       "      <td>7936</td>\n",
       "      <td>3980</td>\n",
       "      <td>6000</td>\n",
       "      <td>2000</td>\n",
       "      <td>25157.12</td>\n",
       "      <td>25233.20</td>\n",
       "      <td>32520.00</td>\n",
       "      <td>14260.00</td>\n",
       "    </tr>\n",
       "    <tr>\n",
       "      <th>4</th>\n",
       "      <td>4321</td>\n",
       "      <td>2022-04-30</td>\n",
       "      <td>7992</td>\n",
       "      <td>3996</td>\n",
       "      <td>5986</td>\n",
       "      <td>1993</td>\n",
       "      <td>25334.64</td>\n",
       "      <td>25334.64</td>\n",
       "      <td>32444.12</td>\n",
       "      <td>14210.09</td>\n",
       "    </tr>\n",
       "    <tr>\n",
       "      <th>5</th>\n",
       "      <td>4352</td>\n",
       "      <td>2022-05-31</td>\n",
       "      <td>7990</td>\n",
       "      <td>3994</td>\n",
       "      <td>5971</td>\n",
       "      <td>1993</td>\n",
       "      <td>25328.30</td>\n",
       "      <td>25321.96</td>\n",
       "      <td>32362.82</td>\n",
       "      <td>14210.09</td>\n",
       "    </tr>\n",
       "    <tr>\n",
       "      <th>6</th>\n",
       "      <td>4382</td>\n",
       "      <td>2022-06-30</td>\n",
       "      <td>7938</td>\n",
       "      <td>3986</td>\n",
       "      <td>5924</td>\n",
       "      <td>1998</td>\n",
       "      <td>25163.46</td>\n",
       "      <td>25271.24</td>\n",
       "      <td>32108.08</td>\n",
       "      <td>14245.74</td>\n",
       "    </tr>\n",
       "    <tr>\n",
       "      <th>7</th>\n",
       "      <td>4413</td>\n",
       "      <td>2022-07-31</td>\n",
       "      <td>7994</td>\n",
       "      <td>3992</td>\n",
       "      <td>5990</td>\n",
       "      <td>1983</td>\n",
       "      <td>25340.98</td>\n",
       "      <td>25309.28</td>\n",
       "      <td>32465.80</td>\n",
       "      <td>14138.79</td>\n",
       "    </tr>\n",
       "    <tr>\n",
       "      <th>8</th>\n",
       "      <td>4443</td>\n",
       "      <td>2022-08-31</td>\n",
       "      <td>7996</td>\n",
       "      <td>3987</td>\n",
       "      <td>5995</td>\n",
       "      <td>1990</td>\n",
       "      <td>25347.32</td>\n",
       "      <td>25277.58</td>\n",
       "      <td>32492.90</td>\n",
       "      <td>14188.70</td>\n",
       "    </tr>\n",
       "    <tr>\n",
       "      <th>9</th>\n",
       "      <td>4473</td>\n",
       "      <td>2022-09-30</td>\n",
       "      <td>7987</td>\n",
       "      <td>3995</td>\n",
       "      <td>5998</td>\n",
       "      <td>2000</td>\n",
       "      <td>25318.79</td>\n",
       "      <td>25328.30</td>\n",
       "      <td>32509.16</td>\n",
       "      <td>14260.00</td>\n",
       "    </tr>\n",
       "    <tr>\n",
       "      <th>10</th>\n",
       "      <td>4504</td>\n",
       "      <td>2022-10-30</td>\n",
       "      <td>7940</td>\n",
       "      <td>3983</td>\n",
       "      <td>5998</td>\n",
       "      <td>1997</td>\n",
       "      <td>25169.80</td>\n",
       "      <td>25252.22</td>\n",
       "      <td>32509.16</td>\n",
       "      <td>14238.61</td>\n",
       "    </tr>\n",
       "    <tr>\n",
       "      <th>11</th>\n",
       "      <td>4534</td>\n",
       "      <td>2022-11-30</td>\n",
       "      <td>7924</td>\n",
       "      <td>3998</td>\n",
       "      <td>5991</td>\n",
       "      <td>2000</td>\n",
       "      <td>25119.08</td>\n",
       "      <td>25347.32</td>\n",
       "      <td>32471.22</td>\n",
       "      <td>14260.00</td>\n",
       "    </tr>\n",
       "    <tr>\n",
       "      <th>12</th>\n",
       "      <td>4565</td>\n",
       "      <td>2022-12-30</td>\n",
       "      <td>7998</td>\n",
       "      <td>3993</td>\n",
       "      <td>5996</td>\n",
       "      <td>1996</td>\n",
       "      <td>25353.66</td>\n",
       "      <td>25315.62</td>\n",
       "      <td>32498.32</td>\n",
       "      <td>14231.48</td>\n",
       "    </tr>\n",
       "  </tbody>\n",
       "</table>\n",
       "</div>"
      ],
      "text/plain": [
       "       Unnamed: 0       Date  Q-P1  Q-P2  Q-P3  Q-P4      S-P1      S-P2  \\\n",
       "month                                                                      \n",
       "1            4596 2023-01-31  7990  3995  5992  1987  25328.30  25328.30   \n",
       "2            4599 2023-02-03  7965  3997  5993  1996  25249.05  25340.98   \n",
       "3            4291 2022-03-31  7936  3980  6000  2000  25157.12  25233.20   \n",
       "4            4321 2022-04-30  7992  3996  5986  1993  25334.64  25334.64   \n",
       "5            4352 2022-05-31  7990  3994  5971  1993  25328.30  25321.96   \n",
       "6            4382 2022-06-30  7938  3986  5924  1998  25163.46  25271.24   \n",
       "7            4413 2022-07-31  7994  3992  5990  1983  25340.98  25309.28   \n",
       "8            4443 2022-08-31  7996  3987  5995  1990  25347.32  25277.58   \n",
       "9            4473 2022-09-30  7987  3995  5998  2000  25318.79  25328.30   \n",
       "10           4504 2022-10-30  7940  3983  5998  1997  25169.80  25252.22   \n",
       "11           4534 2022-11-30  7924  3998  5991  2000  25119.08  25347.32   \n",
       "12           4565 2022-12-30  7998  3993  5996  1996  25353.66  25315.62   \n",
       "\n",
       "           S-P3      S-P4  \n",
       "month                      \n",
       "1      32476.64  14167.31  \n",
       "2      32482.06  14231.48  \n",
       "3      32520.00  14260.00  \n",
       "4      32444.12  14210.09  \n",
       "5      32362.82  14210.09  \n",
       "6      32108.08  14245.74  \n",
       "7      32465.80  14138.79  \n",
       "8      32492.90  14188.70  \n",
       "9      32509.16  14260.00  \n",
       "10     32509.16  14238.61  \n",
       "11     32471.22  14260.00  \n",
       "12     32498.32  14231.48  "
      ]
     },
     "execution_count": 12,
     "metadata": {},
     "output_type": "execute_result"
    }
   ],
   "source": [
    "max_month = df.groupby(by=['month']).max()\n",
    "max_month\n"
   ]
  },
  {
   "cell_type": "code",
   "execution_count": 13,
   "metadata": {},
   "outputs": [
    {
     "data": {
      "text/plain": [
       "12"
      ]
     },
     "execution_count": 13,
     "metadata": {},
     "output_type": "execute_result"
    }
   ],
   "source": [
    "max_month['Q-P1'].idxmax()"
   ]
  },
  {
   "cell_type": "code",
   "execution_count": 14,
   "metadata": {},
   "outputs": [
    {
     "name": "stdout",
     "output_type": "stream",
     "text": [
      "max sell on 12 th month for Q-P1 : 7998 units sold\n",
      "max sell on 11 th month for Q-P2 : 3998 units sold\n",
      "max sell on 3 th month for Q-P3 : 6000 units sold\n",
      "max sell on 3 th month for Q-P4 : 2000 units sold\n"
     ]
    }
   ],
   "source": [
    "for i in range(1,5):\n",
    "    print(\"max sell on\", max_month[f'Q-P{i}'].idxmax(),f\"th month for Q-P{i}\", \":\", max_month[f'Q-P{i}'].max(), \"units sold\")"
   ]
  },
  {
   "cell_type": "markdown",
   "metadata": {},
   "source": [
    "Out of all four products, which product has seen the highest sales in all the given years?"
   ]
  },
  {
   "cell_type": "code",
   "execution_count": 15,
   "metadata": {},
   "outputs": [
    {
     "name": "stdout",
     "output_type": "stream",
     "text": [
      "Q-P1    18860169\n",
      "Q-P2     9741271\n",
      "Q-P3    14379603\n",
      "Q-P4     5139979\n",
      "dtype: int64\n",
      "=================\n",
      "highest sales in all the given years: Q-P1\n"
     ]
    }
   ],
   "source": [
    "all_year = df[['Q-P1','Q-P2','Q-P3','Q-P4']].sum() #sum of all col to check who made the highest sale \n",
    "print(all_year)\n",
    "print('=================')\n",
    "print(\"highest sales in all the given years:\",all_year.idxmax())"
   ]
  },
  {
   "cell_type": "markdown",
   "metadata": {},
   "source": [
    "An estimate on no: of units of each product that could be sold on 31st of Dec , every year , if all their retail centers were kept open."
   ]
  },
  {
   "cell_type": "code",
   "execution_count": 16,
   "metadata": {},
   "outputs": [
    {
     "name": "stdout",
     "output_type": "stream",
     "text": [
      "Start Date: 2010-06-13 00:00:00\n",
      "End Date: 2023-02-03 00:00:00\n"
     ]
    }
   ],
   "source": [
    "# As it's considered that on 31st centers are closed there won't be any entry regarding it \n",
    "# Add 31 Dec for every year\n",
    "df['Date'] = pd.to_datetime(df['Date'], format='%d-%m-%Y')\n",
    "\n",
    "# 3. Find the date range\n",
    "start_date = df['Date'].min()\n",
    "end_date = df['Date'].max()\n",
    "\n",
    "print(f\"Start Date: {start_date}\")\n",
    "print(f\"End Date: {end_date}\")\n"
   ]
  },
  {
   "cell_type": "code",
   "execution_count": 17,
   "metadata": {},
   "outputs": [
    {
     "name": "stdout",
     "output_type": "stream",
     "text": [
      "Missing dates (31-12) in the specified year range:\n",
      "2010-12-31\n",
      "2011-12-31\n",
      "2012-12-31\n",
      "2013-12-31\n",
      "2014-12-31\n",
      "2015-12-31\n",
      "2016-12-31\n",
      "2017-12-31\n",
      "2018-12-31\n",
      "2019-12-31\n",
      "2020-12-31\n",
      "2021-12-31\n",
      "2022-12-31\n"
     ]
    }
   ],
   "source": [
    "# Create a date range for the specified years\n",
    "# date_range = pd.date_range(start=f\"{start_year}-01-01\", end=f\"{end_year}-12-31\")\n",
    "expected_date_range = pd.date_range(start=start_date, end=end_date)\n",
    "\n",
    "# Define the specific day and month you want to check (e.g., 31-12)\n",
    "specific_date = pd.Timestamp(\"12-31\")\n",
    "\n",
    "# # Identify the missing dates\n",
    "missing_dates = [date.date() for date in expected_date_range if date.day == specific_date.day and date.month == specific_date.month]\n",
    "\n",
    "# # Display the missing dates without the timestamp part\n",
    "print(\"Missing dates (31-12) in the specified year range:\")\n",
    "for date in missing_dates:\n",
    "    print(date)\n",
    "\n"
   ]
  },
  {
   "cell_type": "code",
   "execution_count": 18,
   "metadata": {},
   "outputs": [
    {
     "data": {
      "text/html": [
       "<div>\n",
       "<style scoped>\n",
       "    .dataframe tbody tr th:only-of-type {\n",
       "        vertical-align: middle;\n",
       "    }\n",
       "\n",
       "    .dataframe tbody tr th {\n",
       "        vertical-align: top;\n",
       "    }\n",
       "\n",
       "    .dataframe thead th {\n",
       "        text-align: right;\n",
       "    }\n",
       "</style>\n",
       "<table border=\"1\" class=\"dataframe\">\n",
       "  <thead>\n",
       "    <tr style=\"text-align: right;\">\n",
       "      <th></th>\n",
       "      <th>Date</th>\n",
       "    </tr>\n",
       "  </thead>\n",
       "  <tbody>\n",
       "    <tr>\n",
       "      <th>0</th>\n",
       "      <td>2010-12-31</td>\n",
       "    </tr>\n",
       "    <tr>\n",
       "      <th>1</th>\n",
       "      <td>2011-12-31</td>\n",
       "    </tr>\n",
       "    <tr>\n",
       "      <th>2</th>\n",
       "      <td>2012-12-31</td>\n",
       "    </tr>\n",
       "    <tr>\n",
       "      <th>3</th>\n",
       "      <td>2013-12-31</td>\n",
       "    </tr>\n",
       "    <tr>\n",
       "      <th>4</th>\n",
       "      <td>2014-12-31</td>\n",
       "    </tr>\n",
       "  </tbody>\n",
       "</table>\n",
       "</div>"
      ],
      "text/plain": [
       "         Date\n",
       "0  2010-12-31\n",
       "1  2011-12-31\n",
       "2  2012-12-31\n",
       "3  2013-12-31\n",
       "4  2014-12-31"
      ]
     },
     "execution_count": 18,
     "metadata": {},
     "output_type": "execute_result"
    }
   ],
   "source": [
    "df2 = pd.DataFrame({'Date': missing_dates}, )\n",
    "df2.head()"
   ]
  },
  {
   "cell_type": "code",
   "execution_count": 19,
   "metadata": {},
   "outputs": [
    {
     "name": "stdout",
     "output_type": "stream",
     "text": [
      "<class 'pandas.core.frame.DataFrame'>\n",
      "RangeIndex: 13 entries, 0 to 12\n",
      "Data columns (total 1 columns):\n",
      " #   Column  Non-Null Count  Dtype         \n",
      "---  ------  --------------  -----         \n",
      " 0   Date    13 non-null     datetime64[ns]\n",
      "dtypes: datetime64[ns](1)\n",
      "memory usage: 236.0 bytes\n"
     ]
    }
   ],
   "source": [
    "df2['Date'] = pd.to_datetime(df2['Date'], format='%d-%m-%Y') #converting df2 Date to datetime\n",
    "df2.info()"
   ]
  },
  {
   "cell_type": "code",
   "execution_count": 20,
   "metadata": {},
   "outputs": [
    {
     "data": {
      "text/html": [
       "<div>\n",
       "<style scoped>\n",
       "    .dataframe tbody tr th:only-of-type {\n",
       "        vertical-align: middle;\n",
       "    }\n",
       "\n",
       "    .dataframe tbody tr th {\n",
       "        vertical-align: top;\n",
       "    }\n",
       "\n",
       "    .dataframe thead th {\n",
       "        text-align: right;\n",
       "    }\n",
       "</style>\n",
       "<table border=\"1\" class=\"dataframe\">\n",
       "  <thead>\n",
       "    <tr style=\"text-align: right;\">\n",
       "      <th></th>\n",
       "      <th>Unnamed: 0</th>\n",
       "      <th>Date</th>\n",
       "      <th>Q-P1</th>\n",
       "      <th>Q-P2</th>\n",
       "      <th>Q-P3</th>\n",
       "      <th>Q-P4</th>\n",
       "      <th>S-P1</th>\n",
       "      <th>S-P2</th>\n",
       "      <th>S-P3</th>\n",
       "      <th>S-P4</th>\n",
       "      <th>month</th>\n",
       "    </tr>\n",
       "  </thead>\n",
       "  <tbody>\n",
       "    <tr>\n",
       "      <th>0</th>\n",
       "      <td>0.0</td>\n",
       "      <td>2010-06-13</td>\n",
       "      <td>5422.0</td>\n",
       "      <td>3725.0</td>\n",
       "      <td>576.0</td>\n",
       "      <td>907.0</td>\n",
       "      <td>17187.74</td>\n",
       "      <td>23616.50</td>\n",
       "      <td>3121.92</td>\n",
       "      <td>6466.91</td>\n",
       "      <td>6.0</td>\n",
       "    </tr>\n",
       "    <tr>\n",
       "      <th>1</th>\n",
       "      <td>1.0</td>\n",
       "      <td>2010-06-14</td>\n",
       "      <td>7047.0</td>\n",
       "      <td>779.0</td>\n",
       "      <td>3578.0</td>\n",
       "      <td>1574.0</td>\n",
       "      <td>22338.99</td>\n",
       "      <td>4938.86</td>\n",
       "      <td>19392.76</td>\n",
       "      <td>11222.62</td>\n",
       "      <td>6.0</td>\n",
       "    </tr>\n",
       "    <tr>\n",
       "      <th>2</th>\n",
       "      <td>2.0</td>\n",
       "      <td>2010-06-15</td>\n",
       "      <td>1572.0</td>\n",
       "      <td>2082.0</td>\n",
       "      <td>595.0</td>\n",
       "      <td>1145.0</td>\n",
       "      <td>4983.24</td>\n",
       "      <td>13199.88</td>\n",
       "      <td>3224.90</td>\n",
       "      <td>8163.85</td>\n",
       "      <td>6.0</td>\n",
       "    </tr>\n",
       "    <tr>\n",
       "      <th>3</th>\n",
       "      <td>3.0</td>\n",
       "      <td>2010-06-16</td>\n",
       "      <td>5657.0</td>\n",
       "      <td>2399.0</td>\n",
       "      <td>3140.0</td>\n",
       "      <td>1672.0</td>\n",
       "      <td>17932.69</td>\n",
       "      <td>15209.66</td>\n",
       "      <td>17018.80</td>\n",
       "      <td>11921.36</td>\n",
       "      <td>6.0</td>\n",
       "    </tr>\n",
       "    <tr>\n",
       "      <th>4</th>\n",
       "      <td>4.0</td>\n",
       "      <td>2010-06-17</td>\n",
       "      <td>3668.0</td>\n",
       "      <td>3207.0</td>\n",
       "      <td>2184.0</td>\n",
       "      <td>708.0</td>\n",
       "      <td>11627.56</td>\n",
       "      <td>20332.38</td>\n",
       "      <td>11837.28</td>\n",
       "      <td>5048.04</td>\n",
       "      <td>6.0</td>\n",
       "    </tr>\n",
       "    <tr>\n",
       "      <th>...</th>\n",
       "      <td>...</td>\n",
       "      <td>...</td>\n",
       "      <td>...</td>\n",
       "      <td>...</td>\n",
       "      <td>...</td>\n",
       "      <td>...</td>\n",
       "      <td>...</td>\n",
       "      <td>...</td>\n",
       "      <td>...</td>\n",
       "      <td>...</td>\n",
       "      <td>...</td>\n",
       "    </tr>\n",
       "    <tr>\n",
       "      <th>4582</th>\n",
       "      <td>NaN</td>\n",
       "      <td>2018-12-31</td>\n",
       "      <td>NaN</td>\n",
       "      <td>NaN</td>\n",
       "      <td>NaN</td>\n",
       "      <td>NaN</td>\n",
       "      <td>NaN</td>\n",
       "      <td>NaN</td>\n",
       "      <td>NaN</td>\n",
       "      <td>NaN</td>\n",
       "      <td>NaN</td>\n",
       "    </tr>\n",
       "    <tr>\n",
       "      <th>4583</th>\n",
       "      <td>NaN</td>\n",
       "      <td>2019-12-31</td>\n",
       "      <td>NaN</td>\n",
       "      <td>NaN</td>\n",
       "      <td>NaN</td>\n",
       "      <td>NaN</td>\n",
       "      <td>NaN</td>\n",
       "      <td>NaN</td>\n",
       "      <td>NaN</td>\n",
       "      <td>NaN</td>\n",
       "      <td>NaN</td>\n",
       "    </tr>\n",
       "    <tr>\n",
       "      <th>4584</th>\n",
       "      <td>NaN</td>\n",
       "      <td>2020-12-31</td>\n",
       "      <td>NaN</td>\n",
       "      <td>NaN</td>\n",
       "      <td>NaN</td>\n",
       "      <td>NaN</td>\n",
       "      <td>NaN</td>\n",
       "      <td>NaN</td>\n",
       "      <td>NaN</td>\n",
       "      <td>NaN</td>\n",
       "      <td>NaN</td>\n",
       "    </tr>\n",
       "    <tr>\n",
       "      <th>4585</th>\n",
       "      <td>NaN</td>\n",
       "      <td>2021-12-31</td>\n",
       "      <td>NaN</td>\n",
       "      <td>NaN</td>\n",
       "      <td>NaN</td>\n",
       "      <td>NaN</td>\n",
       "      <td>NaN</td>\n",
       "      <td>NaN</td>\n",
       "      <td>NaN</td>\n",
       "      <td>NaN</td>\n",
       "      <td>NaN</td>\n",
       "    </tr>\n",
       "    <tr>\n",
       "      <th>4586</th>\n",
       "      <td>NaN</td>\n",
       "      <td>2022-12-31</td>\n",
       "      <td>NaN</td>\n",
       "      <td>NaN</td>\n",
       "      <td>NaN</td>\n",
       "      <td>NaN</td>\n",
       "      <td>NaN</td>\n",
       "      <td>NaN</td>\n",
       "      <td>NaN</td>\n",
       "      <td>NaN</td>\n",
       "      <td>NaN</td>\n",
       "    </tr>\n",
       "  </tbody>\n",
       "</table>\n",
       "<p>4587 rows × 11 columns</p>\n",
       "</div>"
      ],
      "text/plain": [
       "      Unnamed: 0       Date    Q-P1    Q-P2    Q-P3    Q-P4      S-P1  \\\n",
       "0            0.0 2010-06-13  5422.0  3725.0   576.0   907.0  17187.74   \n",
       "1            1.0 2010-06-14  7047.0   779.0  3578.0  1574.0  22338.99   \n",
       "2            2.0 2010-06-15  1572.0  2082.0   595.0  1145.0   4983.24   \n",
       "3            3.0 2010-06-16  5657.0  2399.0  3140.0  1672.0  17932.69   \n",
       "4            4.0 2010-06-17  3668.0  3207.0  2184.0   708.0  11627.56   \n",
       "...          ...        ...     ...     ...     ...     ...       ...   \n",
       "4582         NaN 2018-12-31     NaN     NaN     NaN     NaN       NaN   \n",
       "4583         NaN 2019-12-31     NaN     NaN     NaN     NaN       NaN   \n",
       "4584         NaN 2020-12-31     NaN     NaN     NaN     NaN       NaN   \n",
       "4585         NaN 2021-12-31     NaN     NaN     NaN     NaN       NaN   \n",
       "4586         NaN 2022-12-31     NaN     NaN     NaN     NaN       NaN   \n",
       "\n",
       "          S-P2      S-P3      S-P4  month  \n",
       "0     23616.50   3121.92   6466.91    6.0  \n",
       "1      4938.86  19392.76  11222.62    6.0  \n",
       "2     13199.88   3224.90   8163.85    6.0  \n",
       "3     15209.66  17018.80  11921.36    6.0  \n",
       "4     20332.38  11837.28   5048.04    6.0  \n",
       "...        ...       ...       ...    ...  \n",
       "4582       NaN       NaN       NaN    NaN  \n",
       "4583       NaN       NaN       NaN    NaN  \n",
       "4584       NaN       NaN       NaN    NaN  \n",
       "4585       NaN       NaN       NaN    NaN  \n",
       "4586       NaN       NaN       NaN    NaN  \n",
       "\n",
       "[4587 rows x 11 columns]"
      ]
     },
     "execution_count": 20,
     "metadata": {},
     "output_type": "execute_result"
    }
   ],
   "source": [
    "df3 = pd.concat([df, df2], ignore_index=True) #concating to add the missing values\n",
    "df3"
   ]
  },
  {
   "cell_type": "code",
   "execution_count": 21,
   "metadata": {},
   "outputs": [
    {
     "data": {
      "text/html": [
       "<div>\n",
       "<style scoped>\n",
       "    .dataframe tbody tr th:only-of-type {\n",
       "        vertical-align: middle;\n",
       "    }\n",
       "\n",
       "    .dataframe tbody tr th {\n",
       "        vertical-align: top;\n",
       "    }\n",
       "\n",
       "    .dataframe thead th {\n",
       "        text-align: right;\n",
       "    }\n",
       "</style>\n",
       "<table border=\"1\" class=\"dataframe\">\n",
       "  <thead>\n",
       "    <tr style=\"text-align: right;\">\n",
       "      <th></th>\n",
       "      <th>Unnamed: 0</th>\n",
       "      <th>Date</th>\n",
       "      <th>Q-P1</th>\n",
       "      <th>Q-P2</th>\n",
       "      <th>Q-P3</th>\n",
       "      <th>Q-P4</th>\n",
       "      <th>S-P1</th>\n",
       "      <th>S-P2</th>\n",
       "      <th>S-P3</th>\n",
       "      <th>S-P4</th>\n",
       "      <th>month</th>\n",
       "    </tr>\n",
       "  </thead>\n",
       "  <tbody>\n",
       "    <tr>\n",
       "      <th>4584</th>\n",
       "      <td>NaN</td>\n",
       "      <td>2020-12-31</td>\n",
       "      <td>NaN</td>\n",
       "      <td>NaN</td>\n",
       "      <td>NaN</td>\n",
       "      <td>NaN</td>\n",
       "      <td>NaN</td>\n",
       "      <td>NaN</td>\n",
       "      <td>NaN</td>\n",
       "      <td>NaN</td>\n",
       "      <td>NaN</td>\n",
       "    </tr>\n",
       "  </tbody>\n",
       "</table>\n",
       "</div>"
      ],
      "text/plain": [
       "      Unnamed: 0       Date  Q-P1  Q-P2  Q-P3  Q-P4  S-P1  S-P2  S-P3  S-P4  \\\n",
       "4584         NaN 2020-12-31   NaN   NaN   NaN   NaN   NaN   NaN   NaN   NaN   \n",
       "\n",
       "      month  \n",
       "4584    NaN  "
      ]
     },
     "execution_count": 21,
     "metadata": {},
     "output_type": "execute_result"
    }
   ],
   "source": [
    "df3[df3['Date']== '2020-12-31']"
   ]
  },
  {
   "cell_type": "code",
   "execution_count": 22,
   "metadata": {},
   "outputs": [
    {
     "data": {
      "text/plain": [
       "Index(['Unnamed: 0', 'Date', 'Q-P1', 'Q-P2', 'Q-P3', 'Q-P4', 'S-P1', 'S-P2',\n",
       "       'S-P3', 'S-P4', 'month'],\n",
       "      dtype='object')"
      ]
     },
     "execution_count": 22,
     "metadata": {},
     "output_type": "execute_result"
    }
   ],
   "source": [
    "df.columns"
   ]
  },
  {
   "cell_type": "code",
   "execution_count": 23,
   "metadata": {},
   "outputs": [],
   "source": [
    "#dropping unwanted columns\n",
    "df3 = df3.drop(\"Unnamed: 0\", axis='columns')\n"
   ]
  },
  {
   "cell_type": "code",
   "execution_count": 24,
   "metadata": {},
   "outputs": [
    {
     "name": "stdout",
     "output_type": "stream",
     "text": [
      "True\n",
      "13\n"
     ]
    }
   ],
   "source": [
    "# checking for nan values\n",
    "print(df3['Q-P1'].isnull().values.any())\n",
    "print(df3['Q-P1'].isnull().sum())"
   ]
  },
  {
   "cell_type": "code",
   "execution_count": 37,
   "metadata": {},
   "outputs": [],
   "source": [
    "# yearly_mean = df3[df3['Date'].dt.year==2010]\n",
    "# df3[df3['Date'].dt.year==2010] = yearly_mean.fillna(yearly_mean['Q-P1'].mean())\n",
    "# df3[df3['Date'].dt.year==2010]"
   ]
  },
  {
   "cell_type": "code",
   "execution_count": 38,
   "metadata": {},
   "outputs": [
    {
     "data": {
      "text/html": [
       "<div>\n",
       "<style scoped>\n",
       "    .dataframe tbody tr th:only-of-type {\n",
       "        vertical-align: middle;\n",
       "    }\n",
       "\n",
       "    .dataframe tbody tr th {\n",
       "        vertical-align: top;\n",
       "    }\n",
       "\n",
       "    .dataframe thead th {\n",
       "        text-align: right;\n",
       "    }\n",
       "</style>\n",
       "<table border=\"1\" class=\"dataframe\">\n",
       "  <thead>\n",
       "    <tr style=\"text-align: right;\">\n",
       "      <th></th>\n",
       "      <th>Date</th>\n",
       "      <th>Q-P1</th>\n",
       "      <th>Q-P2</th>\n",
       "      <th>Q-P3</th>\n",
       "      <th>Q-P4</th>\n",
       "      <th>S-P1</th>\n",
       "      <th>S-P2</th>\n",
       "      <th>S-P3</th>\n",
       "      <th>S-P4</th>\n",
       "      <th>month</th>\n",
       "    </tr>\n",
       "  </thead>\n",
       "  <tbody>\n",
       "    <tr>\n",
       "      <th>0</th>\n",
       "      <td>2010-06-13</td>\n",
       "      <td>5422</td>\n",
       "      <td>3725</td>\n",
       "      <td>576</td>\n",
       "      <td>907</td>\n",
       "      <td>17187.74</td>\n",
       "      <td>23616.50</td>\n",
       "      <td>3121.92</td>\n",
       "      <td>6466.91</td>\n",
       "      <td>6.0</td>\n",
       "    </tr>\n",
       "    <tr>\n",
       "      <th>1</th>\n",
       "      <td>2010-06-14</td>\n",
       "      <td>7047</td>\n",
       "      <td>779</td>\n",
       "      <td>3578</td>\n",
       "      <td>1574</td>\n",
       "      <td>22338.99</td>\n",
       "      <td>4938.86</td>\n",
       "      <td>19392.76</td>\n",
       "      <td>11222.62</td>\n",
       "      <td>6.0</td>\n",
       "    </tr>\n",
       "    <tr>\n",
       "      <th>2</th>\n",
       "      <td>2010-06-15</td>\n",
       "      <td>1572</td>\n",
       "      <td>2082</td>\n",
       "      <td>595</td>\n",
       "      <td>1145</td>\n",
       "      <td>4983.24</td>\n",
       "      <td>13199.88</td>\n",
       "      <td>3224.90</td>\n",
       "      <td>8163.85</td>\n",
       "      <td>6.0</td>\n",
       "    </tr>\n",
       "    <tr>\n",
       "      <th>3</th>\n",
       "      <td>2010-06-16</td>\n",
       "      <td>5657</td>\n",
       "      <td>2399</td>\n",
       "      <td>3140</td>\n",
       "      <td>1672</td>\n",
       "      <td>17932.69</td>\n",
       "      <td>15209.66</td>\n",
       "      <td>17018.80</td>\n",
       "      <td>11921.36</td>\n",
       "      <td>6.0</td>\n",
       "    </tr>\n",
       "    <tr>\n",
       "      <th>4</th>\n",
       "      <td>2010-06-17</td>\n",
       "      <td>3668</td>\n",
       "      <td>3207</td>\n",
       "      <td>2184</td>\n",
       "      <td>708</td>\n",
       "      <td>11627.56</td>\n",
       "      <td>20332.38</td>\n",
       "      <td>11837.28</td>\n",
       "      <td>5048.04</td>\n",
       "      <td>6.0</td>\n",
       "    </tr>\n",
       "    <tr>\n",
       "      <th>...</th>\n",
       "      <td>...</td>\n",
       "      <td>...</td>\n",
       "      <td>...</td>\n",
       "      <td>...</td>\n",
       "      <td>...</td>\n",
       "      <td>...</td>\n",
       "      <td>...</td>\n",
       "      <td>...</td>\n",
       "      <td>...</td>\n",
       "      <td>...</td>\n",
       "    </tr>\n",
       "    <tr>\n",
       "      <th>4569</th>\n",
       "      <td>2023-01-30</td>\n",
       "      <td>2476</td>\n",
       "      <td>3419</td>\n",
       "      <td>525</td>\n",
       "      <td>1359</td>\n",
       "      <td>7848.92</td>\n",
       "      <td>21676.46</td>\n",
       "      <td>2845.50</td>\n",
       "      <td>9689.67</td>\n",
       "      <td>1.0</td>\n",
       "    </tr>\n",
       "    <tr>\n",
       "      <th>4570</th>\n",
       "      <td>2023-01-31</td>\n",
       "      <td>7446</td>\n",
       "      <td>841</td>\n",
       "      <td>4825</td>\n",
       "      <td>1311</td>\n",
       "      <td>23603.82</td>\n",
       "      <td>5331.94</td>\n",
       "      <td>26151.50</td>\n",
       "      <td>9347.43</td>\n",
       "      <td>1.0</td>\n",
       "    </tr>\n",
       "    <tr>\n",
       "      <th>4571</th>\n",
       "      <td>2023-02-01</td>\n",
       "      <td>6289</td>\n",
       "      <td>3143</td>\n",
       "      <td>3588</td>\n",
       "      <td>474</td>\n",
       "      <td>19936.13</td>\n",
       "      <td>19926.62</td>\n",
       "      <td>19446.96</td>\n",
       "      <td>3379.62</td>\n",
       "      <td>2.0</td>\n",
       "    </tr>\n",
       "    <tr>\n",
       "      <th>4572</th>\n",
       "      <td>2023-02-02</td>\n",
       "      <td>3122</td>\n",
       "      <td>1188</td>\n",
       "      <td>5899</td>\n",
       "      <td>517</td>\n",
       "      <td>9896.74</td>\n",
       "      <td>7531.92</td>\n",
       "      <td>31972.58</td>\n",
       "      <td>3686.21</td>\n",
       "      <td>2.0</td>\n",
       "    </tr>\n",
       "    <tr>\n",
       "      <th>4573</th>\n",
       "      <td>2023-02-03</td>\n",
       "      <td>1234</td>\n",
       "      <td>3854</td>\n",
       "      <td>2321</td>\n",
       "      <td>406</td>\n",
       "      <td>3911.78</td>\n",
       "      <td>24434.36</td>\n",
       "      <td>12579.82</td>\n",
       "      <td>2894.78</td>\n",
       "      <td>2.0</td>\n",
       "    </tr>\n",
       "  </tbody>\n",
       "</table>\n",
       "<p>4587 rows × 10 columns</p>\n",
       "</div>"
      ],
      "text/plain": [
       "           Date  Q-P1  Q-P2  Q-P3  Q-P4      S-P1      S-P2      S-P3  \\\n",
       "0    2010-06-13  5422  3725   576   907  17187.74  23616.50   3121.92   \n",
       "1    2010-06-14  7047   779  3578  1574  22338.99   4938.86  19392.76   \n",
       "2    2010-06-15  1572  2082   595  1145   4983.24  13199.88   3224.90   \n",
       "3    2010-06-16  5657  2399  3140  1672  17932.69  15209.66  17018.80   \n",
       "4    2010-06-17  3668  3207  2184   708  11627.56  20332.38  11837.28   \n",
       "...         ...   ...   ...   ...   ...       ...       ...       ...   \n",
       "4569 2023-01-30  2476  3419   525  1359   7848.92  21676.46   2845.50   \n",
       "4570 2023-01-31  7446   841  4825  1311  23603.82   5331.94  26151.50   \n",
       "4571 2023-02-01  6289  3143  3588   474  19936.13  19926.62  19446.96   \n",
       "4572 2023-02-02  3122  1188  5899   517   9896.74   7531.92  31972.58   \n",
       "4573 2023-02-03  1234  3854  2321   406   3911.78  24434.36  12579.82   \n",
       "\n",
       "          S-P4  month  \n",
       "0      6466.91    6.0  \n",
       "1     11222.62    6.0  \n",
       "2      8163.85    6.0  \n",
       "3     11921.36    6.0  \n",
       "4      5048.04    6.0  \n",
       "...        ...    ...  \n",
       "4569   9689.67    1.0  \n",
       "4570   9347.43    1.0  \n",
       "4571   3379.62    2.0  \n",
       "4572   3686.21    2.0  \n",
       "4573   2894.78    2.0  \n",
       "\n",
       "[4587 rows x 10 columns]"
      ]
     },
     "execution_count": 38,
     "metadata": {},
     "output_type": "execute_result"
    }
   ],
   "source": [
    "df3['Q-P1'] = df3['Q-P1'].fillna(df3['Q-P1'].mean())\n",
    "df3['Q-P2'] = df3['Q-P2'].fillna(df3['Q-P2'].mean())\n",
    "df3['Q-P3'] = df3['Q-P3'].fillna(df3['Q-P3'].mean())\n",
    "df3['Q-P4'] = df3['Q-P4'].fillna(df3['Q-P4'].mean())\n",
    "df3"
   ]
  },
  {
   "cell_type": "code",
   "execution_count": 39,
   "metadata": {},
   "outputs": [
    {
     "name": "stdout",
     "output_type": "stream",
     "text": [
      "<class 'pandas.core.frame.DataFrame'>\n",
      "Index: 4587 entries, 0 to 4573\n",
      "Data columns (total 10 columns):\n",
      " #   Column  Non-Null Count  Dtype         \n",
      "---  ------  --------------  -----         \n",
      " 0   Date    4587 non-null   datetime64[ns]\n",
      " 1   Q-P1    4587 non-null   int32         \n",
      " 2   Q-P2    4587 non-null   int32         \n",
      " 3   Q-P3    4587 non-null   int32         \n",
      " 4   Q-P4    4587 non-null   int32         \n",
      " 5   S-P1    4575 non-null   float64       \n",
      " 6   S-P2    4575 non-null   float64       \n",
      " 7   S-P3    4575 non-null   float64       \n",
      " 8   S-P4    4575 non-null   float64       \n",
      " 9   month   4575 non-null   float64       \n",
      "dtypes: datetime64[ns](1), float64(5), int32(4)\n",
      "memory usage: 451.6 KB\n"
     ]
    }
   ],
   "source": [
    "# converting filled values to integer\n",
    "df3 = df3.astype({\"Q-P1\":'int', \"Q-P2\":'int', \"Q-P3\":'int', \"Q-P4\":'int'})  \n",
    "df3.info()\n"
   ]
  },
  {
   "cell_type": "code",
   "execution_count": 40,
   "metadata": {},
   "outputs": [
    {
     "name": "stdout",
     "output_type": "stream",
     "text": [
      "           Date  Q-P1  Q-P2  Q-P3  Q-P4      S-P1      S-P2      S-P3  \\\n",
      "0    2010-06-13  5422  3725   576   907  17187.74  23616.50   3121.92   \n",
      "1    2010-06-14  7047   779  3578  1574  22338.99   4938.86  19392.76   \n",
      "2    2010-06-15  1572  2082   595  1145   4983.24  13199.88   3224.90   \n",
      "3    2010-06-16  5657  2399  3140  1672  17932.69  15209.66  17018.80   \n",
      "4    2010-06-17  3668  3207  2184   708  11627.56  20332.38  11837.28   \n",
      "...         ...   ...   ...   ...   ...       ...       ...       ...   \n",
      "4569 2023-01-30  2476  3419   525  1359   7848.92  21676.46   2845.50   \n",
      "4570 2023-01-31  7446   841  4825  1311  23603.82   5331.94  26151.50   \n",
      "4571 2023-02-01  6289  3143  3588   474  19936.13  19926.62  19446.96   \n",
      "4572 2023-02-02  3122  1188  5899   517   9896.74   7531.92  31972.58   \n",
      "4573 2023-02-03  1234  3854  2321   406   3911.78  24434.36  12579.82   \n",
      "\n",
      "          S-P4  month  \n",
      "0      6466.91    6.0  \n",
      "1     11222.62    6.0  \n",
      "2      8163.85    6.0  \n",
      "3     11921.36    6.0  \n",
      "4      5048.04    6.0  \n",
      "...        ...    ...  \n",
      "4569   9689.67    1.0  \n",
      "4570   9347.43    1.0  \n",
      "4571   3379.62    2.0  \n",
      "4572   3686.21    2.0  \n",
      "4573   2894.78    2.0  \n",
      "\n",
      "[4587 rows x 10 columns]\n"
     ]
    }
   ],
   "source": [
    "df3.sort_values(by='Date', inplace = True)\n",
    "print(df3)"
   ]
  },
  {
   "cell_type": "code",
   "execution_count": 28,
   "metadata": {},
   "outputs": [
    {
     "name": "stdout",
     "output_type": "stream",
     "text": [
      "           Date  Q-P1  Q-P2  Q-P3  Q-P4  S-P1  S-P2  S-P3  S-P4  month\n",
      "4574 2010-12-31  4123  2129  3143  1123   NaN   NaN   NaN   NaN    NaN\n",
      "4575 2011-12-31  4123  2129  3143  1123   NaN   NaN   NaN   NaN    NaN\n",
      "4576 2012-12-31  4123  2129  3143  1123   NaN   NaN   NaN   NaN    NaN\n",
      "4577 2013-12-31  4123  2129  3143  1123   NaN   NaN   NaN   NaN    NaN\n",
      "4578 2014-12-31  4123  2129  3143  1123   NaN   NaN   NaN   NaN    NaN\n",
      "4579 2015-12-31  4123  2129  3143  1123   NaN   NaN   NaN   NaN    NaN\n",
      "4580 2016-12-31  4123  2129  3143  1123   NaN   NaN   NaN   NaN    NaN\n",
      "4581 2017-12-31  4123  2129  3143  1123   NaN   NaN   NaN   NaN    NaN\n",
      "4582 2018-12-31  4123  2129  3143  1123   NaN   NaN   NaN   NaN    NaN\n",
      "4583 2019-12-31  4123  2129  3143  1123   NaN   NaN   NaN   NaN    NaN\n",
      "4584 2020-12-31  4123  2129  3143  1123   NaN   NaN   NaN   NaN    NaN\n",
      "4585 2021-12-31  4123  2129  3143  1123   NaN   NaN   NaN   NaN    NaN\n",
      "4586 2022-12-31  4123  2129  3143  1123   NaN   NaN   NaN   NaN    NaN\n"
     ]
    },
    {
     "name": "stderr",
     "output_type": "stream",
     "text": [
      "C:\\Users\\Arati\\AppData\\Local\\Temp\\ipykernel_19008\\3433607372.py:4: UserWarning: Boolean Series key will be reindexed to match DataFrame index.\n",
      "  dec_31_rows = df3[df3['Date'].dt.month == 12][df3['Date'].dt.day == 31]\n"
     ]
    }
   ],
   "source": [
    "df3['Date'] = pd.to_datetime(df3['Date'])\n",
    "\n",
    "# Find rows with December 31st of every year\n",
    "dec_31_rows = df3[df3['Date'].dt.month == 12][df3['Date'].dt.day == 31]\n",
    "\n",
    "# Display the rows with December 31st\n",
    "print(dec_31_rows)"
   ]
  },
  {
   "cell_type": "markdown",
   "metadata": {},
   "source": [
    "Dropping the production of any one of the products by analysing the data "
   ]
  },
  {
   "cell_type": "code",
   "execution_count": 41,
   "metadata": {},
   "outputs": [
    {
     "data": {
      "image/png": "[encoded data removed]",
      "text/plain": [
       "<Figure size 1200x600 with 1 Axes>"
      ]
     },
     "metadata": {},
     "output_type": "display_data"
    }
   ],
   "source": [
    "# Set the 'Date' column as the index for time series plotting\n",
    "df3.set_index('Date', inplace=True)\n",
    "\n",
    "# Create a line plot to observe the trend of selling costs over time\n",
    "plt.figure(figsize=(12, 6))\n",
    "plt.plot(df3.index, df3['Q-P1'], label='Q-P1')\n",
    "plt.plot(df3.index, df3['Q-P2'], label='Q-P2')\n",
    "plt.plot(df3.index, df3['Q-P3'], label='Q-P3')\n",
    "plt.plot(df3.index, df3['Q-P4'], label='Q-P4')\n",
    "\n",
    "plt.title('Selling Cost Trend Over Time')\n",
    "plt.xlabel('Date')\n",
    "plt.ylabel('Selling Cost')\n",
    "plt.legend()\n",
    "\n",
    "plt.show()"
   ]
  },
  {
   "cell_type": "code",
   "execution_count": 47,
   "metadata": {},
   "outputs": [
    {
     "data": {
      "image/png": "[encoded data removed]",
      "text/plain": [
       "<Figure size 1200x600 with 1 Axes>"
      ]
     },
     "metadata": {},
     "output_type": "display_data"
    }
   ],
   "source": [
    "##Visualizing the data to decide which product should be dropped\n",
    "columns_to_plot = ['Q-P1', 'Q-P2', 'Q-P3', 'Q-P4']\n",
    "\n",
    "# Create box plots using Seaborn\n",
    "plt.figure(figsize=(12, 6))\n",
    "sns.boxplot(data=df3[columns_to_plot])\n",
    "plt.title('Box Plots for Q-P1, Q-P2, Q-P3, Q-P4')\n",
    "plt.xlabel('Columns')\n",
    "plt.ylabel('Values')\n",
    "plt.xticks(rotation=45)  # Rotate x-axis labels for readability\n",
    "plt.show()\n",
    "\n",
    "\n"
   ]
  },
  {
   "cell_type": "code",
   "execution_count": null,
   "metadata": {},
   "outputs": [],
   "source": [
    "# here Q-P4 can be dropped or discontinued"
   ]
  }
 ],
 "metadata": {
  "kernelspec": {
   "display_name": "Python 3",
   "language": "python",
   "name": "python3"
  },
  "language_info": {
   "codemirror_mode": {
    "name": "ipython",
    "version": 3
   },
   "file_extension": ".py",
   "mimetype": "text/x-python",
   "name": "python",
   "nbconvert_exporter": "python",
   "pygments_lexer": "ipython3",
   "version": "3.11.5"
  }
 },
 "nbformat": 4,
 "nbformat_minor": 2
}
